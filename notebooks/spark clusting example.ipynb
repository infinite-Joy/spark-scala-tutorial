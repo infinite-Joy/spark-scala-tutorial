{
 "cells": [
  {
   "cell_type": "markdown",
   "metadata": {},
   "source": [
    "Data from here https://grouplens.org/datasets/movielens/"
   ]
  },
  {
   "cell_type": "code",
   "execution_count": 1,
   "metadata": {},
   "outputs": [],
   "source": [
    "import org.apache.spark.ml.feature.{HashingTF, IDF, Tokenizer}\n",
    "import org.apache.spark.sql.functions._\n",
    "import org.apache.spark.ml.feature.{CountVectorizer, CountVectorizerModel}"
   ]
  },
  {
   "cell_type": "code",
   "execution_count": 2,
   "metadata": {},
   "outputs": [
    {
     "data": {
      "text/plain": [
       "genres_df = [movieId: int, title: string ... 1 more field]\n"
      ]
     },
     "metadata": {},
     "output_type": "display_data"
    },
    {
     "data": {
      "text/plain": [
       "[movieId: int, title: string ... 1 more field]"
      ]
     },
     "execution_count": 2,
     "metadata": {},
     "output_type": "execute_result"
    }
   ],
   "source": [
    "val genres_df = spark.read\n",
    "    .format(\"csv\")\n",
    "    .option(\"header\", \"true\")\n",
    "    .option(\"inferSchema\", true)\n",
    "    .load(\"/home/jovyan/data/ml-20m/movies.csv\")"
   ]
  },
  {
   "cell_type": "code",
   "execution_count": 3,
   "metadata": {},
   "outputs": [
    {
     "name": "stdout",
     "output_type": "stream",
     "text": [
      "+-------+--------------------+--------------------+\n",
      "|movieId|               title|              genres|\n",
      "+-------+--------------------+--------------------+\n",
      "|      1|    Toy Story (1995)|Adventure|Animati...|\n",
      "|      2|      Jumanji (1995)|Adventure|Childre...|\n",
      "|      3|Grumpier Old Men ...|      Comedy|Romance|\n",
      "+-------+--------------------+--------------------+\n",
      "only showing top 3 rows\n",
      "\n"
     ]
    }
   ],
   "source": [
    "genres_df.show(3)"
   ]
  },
  {
   "cell_type": "code",
   "execution_count": 4,
   "metadata": {},
   "outputs": [
    {
     "data": {
      "text/plain": [
       "genre_words_to_lowercaseUdf = UserDefinedFunction(<function1>,ArrayType(StringType,true),Some(List(StringType)))\n",
       "genres_df1 = [movieId: int, title: string ... 2 more fields]\n"
      ]
     },
     "metadata": {},
     "output_type": "display_data"
    },
    {
     "data": {
      "text/plain": [
       "genre_to_lowercase: (genres: String)Array[String]\n"
      ]
     },
     "metadata": {},
     "output_type": "display_data"
    },
    {
     "data": {
      "text/plain": [
       "[movieId: int, title: string ... 2 more fields]"
      ]
     },
     "execution_count": 4,
     "metadata": {},
     "output_type": "execute_result"
    }
   ],
   "source": [
    "def genre_to_lowercase(genres: String): Array[String] = genres.toLowerCase().split(\"\\\\|\")\n",
    "\n",
    "// we use the method name followed by a \"_\" to indicate we want a reference\n",
    "// to the method, not call it\n",
    "val genre_words_to_lowercaseUdf = udf(genre_to_lowercase _)\n",
    "\n",
    "val genres_df1 = genres_df.withColumn(\"genre_words_lc\", genre_words_to_lowercaseUdf('genres))"
   ]
  },
  {
   "cell_type": "code",
   "execution_count": 5,
   "metadata": {},
   "outputs": [
    {
     "name": "stdout",
     "output_type": "stream",
     "text": [
      "+-------+--------------------+--------------------+--------------------+\n",
      "|movieId|               title|              genres|      genre_words_lc|\n",
      "+-------+--------------------+--------------------+--------------------+\n",
      "|      1|    Toy Story (1995)|Adventure|Animati...|[adventure, anima...|\n",
      "|      2|      Jumanji (1995)|Adventure|Childre...|[adventure, child...|\n",
      "|      3|Grumpier Old Men ...|      Comedy|Romance|   [comedy, romance]|\n",
      "+-------+--------------------+--------------------+--------------------+\n",
      "only showing top 3 rows\n",
      "\n"
     ]
    }
   ],
   "source": [
    "genres_df1.show(3)"
   ]
  },
  {
   "cell_type": "markdown",
   "metadata": {},
   "source": [
    "We will think in terms of NLP where we will create a vector of the movie titles. This vector is basically a mapping of the movies to the genre vector."
   ]
  },
  {
   "cell_type": "code",
   "execution_count": 6,
   "metadata": {},
   "outputs": [
    {
     "data": {
      "text/plain": [
       "all_words = [col: string]\n",
       "distinct_words = [col: string]\n",
       "total_distinct_words = 20\n"
      ]
     },
     "metadata": {},
     "output_type": "display_data"
    },
    {
     "data": {
      "text/plain": [
       "20"
      ]
     },
     "execution_count": 6,
     "metadata": {},
     "output_type": "execute_result"
    }
   ],
   "source": [
    "val all_words = genres_df1.select(explode(genres_df1(\"genre_words_lc\")))\n",
    "val distinct_words = all_words.filter(_ != \"\").select(all_words(\"col\")).distinct\n",
    "val total_distinct_words = distinct_words.count.toInt"
   ]
  },
  {
   "cell_type": "code",
   "execution_count": 7,
   "metadata": {},
   "outputs": [
    {
     "data": {
      "text/html": [
       "<table>\n",
       "<tr><td>crime</td></tr>\n",
       "<tr><td>imax</td></tr>\n",
       "<tr><td>fantasy</td></tr>\n",
       "<tr><td>documentary</td></tr>\n",
       "<tr><td>action</td></tr>\n",
       "</table>"
      ],
      "text/plain": [
       "+-------------+\n",
       "| crime       |\n",
       "| imax        |\n",
       "| fantasy     |\n",
       "| documentary |\n",
       "| action      |\n",
       "+-------------+"
      ]
     },
     "execution_count": 7,
     "metadata": {},
     "output_type": "execute_result"
    }
   ],
   "source": [
    "distinct_words.take(5)"
   ]
  },
  {
   "cell_type": "code",
   "execution_count": 8,
   "metadata": {},
   "outputs": [
    {
     "data": {
      "text/plain": [
       "cvModel = cntVec_41f781ad9121\n"
      ]
     },
     "metadata": {},
     "output_type": "display_data"
    },
    {
     "data": {
      "text/plain": [
       "cntVec_41f781ad9121"
      ]
     },
     "execution_count": 8,
     "metadata": {},
     "output_type": "execute_result"
    }
   ],
   "source": [
    "// fit a CountVectorizerModel from the corpus\n",
    "val cvModel: CountVectorizerModel = new CountVectorizer()\n",
    "  .setInputCol(\"genre_words_lc\")\n",
    "  .setOutputCol(\"features\")\n",
    "  .setVocabSize(total_distinct_words)\n",
    "  .setMinDF(2)\n",
    "  .fit(genres_df1)"
   ]
  },
  {
   "cell_type": "code",
   "execution_count": 9,
   "metadata": {},
   "outputs": [
    {
     "data": {
      "text/plain": [
       "genres_df2 = [movieId: int, title: string ... 3 more fields]\n"
      ]
     },
     "metadata": {},
     "output_type": "display_data"
    },
    {
     "data": {
      "text/plain": [
       "[movieId: int, title: string ... 3 more fields]"
      ]
     },
     "execution_count": 9,
     "metadata": {},
     "output_type": "execute_result"
    }
   ],
   "source": [
    "val genres_df2 = cvModel.transform(genres_df1)"
   ]
  },
  {
   "cell_type": "code",
   "execution_count": 10,
   "metadata": {},
   "outputs": [
    {
     "name": "stdout",
     "output_type": "stream",
     "text": [
      "+-------+--------------------+--------------------+--------------------+--------------------+\n",
      "|movieId|               title|              genres|      genre_words_lc|            features|\n",
      "+-------+--------------------+--------------------+--------------------+--------------------+\n",
      "|      1|    Toy Story (1995)|Adventure|Animati...|[adventure, anima...|(20,[1,8,11,13,15...|\n",
      "|      2|      Jumanji (1995)|Adventure|Childre...|[adventure, child...|(20,[8,11,13],[1....|\n",
      "|      3|Grumpier Old Men ...|      Comedy|Romance|   [comedy, romance]|(20,[1,3],[1.0,1.0])|\n",
      "+-------+--------------------+--------------------+--------------------+--------------------+\n",
      "only showing top 3 rows\n",
      "\n"
     ]
    }
   ],
   "source": [
    "genres_df2.show(3)"
   ]
  },
  {
   "cell_type": "code",
   "execution_count": 43,
   "metadata": {},
   "outputs": [
    {
     "data": {
      "text/plain": [
       "[WrappedArray(crime), WrappedArray(imax), WrappedArray(fantasy), WrappedArray(documentary), WrappedArray(action), WrappedArray(animation), WrappedArray(mystery), WrappedArray(horror), WrappedArray(film-noir), WrappedArray(musical), WrappedArray(adventure), WrappedArray(drama), WrappedArray((no genres listed)), WrappedArray(western), WrappedArray(children), WrappedArray(war), WrappedArray(romance), WrappedArray(thriller), WrappedArray(sci-fi), WrappedArray(comedy)]"
      ]
     },
     "execution_count": 43,
     "metadata": {},
     "output_type": "execute_result"
    }
   ],
   "source": [
    "distinct_words.collect.map(_.toSeq)"
   ]
  },
  {
   "cell_type": "code",
   "execution_count": 42,
   "metadata": {},
   "outputs": [
    {
     "data": {
      "text/plain": [
       "Name: Unknown Error\n",
       "Message: <console>:51: error: type mismatch;\n",
       " found   : Seq[Any]\n",
       " required: org.apache.spark.sql.DataFrame\n",
       "    (which expands to)  org.apache.spark.sql.Dataset[org.apache.spark.sql.Row]\n",
       "                   category\n",
       "                   ^\n",
       "\n",
       "StackTrace: "
      ]
     },
     "execution_count": 42,
     "metadata": {},
     "output_type": "execute_result"
    }
   ],
   "source": [
    "val oneHotDf = distinct_words.collect.map(_.toSeq)\n",
    "    .foldLeft(genres_df2)(\n",
    "        (genres_df2, category) => \n",
    "            category\n",
    "//             genres_df2.withColumn(\"genres_\" + category, when(instr(lower(col(\"genres\")), category) === 0, 0).otherwise(1))\n",
    "    )"
   ]
  },
  {
   "cell_type": "code",
   "execution_count": null,
   "metadata": {},
   "outputs": [],
   "source": [
    "def check_presence(genres: Array[String], category: String):  = genres.toLowerCase().split(\"\\\\|\")\n",
    "\n",
    "// we use the method name followed by a \"_\" to indicate we want a reference\n",
    "// to the method, not call it\n",
    "val genre_words_to_lowercaseUdf = udf(genre_to_lowercase _)\n",
    "\n",
    "val genres_df1 = genres_df.withColumn(\"genre_words_lc\", genre_words_to_lowercaseUdf('genres))"
   ]
  },
  {
   "cell_type": "code",
   "execution_count": 30,
   "metadata": {},
   "outputs": [
    {
     "name": "stdout",
     "output_type": "stream",
     "text": [
      "+--------------------+----------------+\n",
      "|              genres|genres_adventure|\n",
      "+--------------------+----------------+\n",
      "|Adventure|Animati...|               1|\n",
      "|Adventure|Childre...|               1|\n",
      "|      Comedy|Romance|               0|\n",
      "|Comedy|Drama|Romance|               0|\n",
      "|              Comedy|               0|\n",
      "|Action|Crime|Thri...|               0|\n",
      "|      Comedy|Romance|               0|\n",
      "|  Adventure|Children|               1|\n",
      "|              Action|               0|\n",
      "|Action|Adventure|...|               8|\n",
      "+--------------------+----------------+\n",
      "only showing top 10 rows\n",
      "\n"
     ]
    },
    {
     "data": {
      "text/plain": [
       "category = adventure\n"
      ]
     },
     "metadata": {},
     "output_type": "display_data"
    },
    {
     "data": {
      "text/plain": [
       "adventure"
      ]
     },
     "execution_count": 30,
     "metadata": {},
     "output_type": "execute_result"
    }
   ],
   "source": [
    "val category = \"adventure\"\n",
    "genres_df2.withColumn(\"genres_\" + category, instr(lower(col(\"genres\")), category))\n",
    "    .select(\"genres\", \"genres_adventure\")\n",
    "    .show(10)"
   ]
  },
  {
   "cell_type": "code",
   "execution_count": 32,
   "metadata": {},
   "outputs": [
    {
     "name": "stdout",
     "output_type": "stream",
     "text": [
      "+-------+--------------------+--------------------+--------------------+--------------------+----------------+\n",
      "|movieId|               title|              genres|      genre_words_lc|            features|genres_adventure|\n",
      "+-------+--------------------+--------------------+--------------------+--------------------+----------------+\n",
      "|      1|    Toy Story (1995)|Adventure|Animati...|[adventure, anima...|(20,[1,8,11,13,15...|               1|\n",
      "|      2|      Jumanji (1995)|Adventure|Childre...|[adventure, child...|(20,[8,11,13],[1....|               1|\n",
      "|      3|Grumpier Old Men ...|      Comedy|Romance|   [comedy, romance]|(20,[1,3],[1.0,1.0])|               0|\n",
      "|      4|Waiting to Exhale...|Comedy|Drama|Romance|[comedy, drama, r...|(20,[0,1,3],[1.0,...|               0|\n",
      "|      5|Father of the Bri...|              Comedy|            [comedy]|      (20,[1],[1.0])|               0|\n",
      "|      6|         Heat (1995)|Action|Crime|Thri...|[action, crime, t...|(20,[2,4,5],[1.0,...|               0|\n",
      "|      7|      Sabrina (1995)|      Comedy|Romance|   [comedy, romance]|(20,[1,3],[1.0,1.0])|               0|\n",
      "|      8| Tom and Huck (1995)|  Adventure|Children|[adventure, child...|(20,[8,13],[1.0,1...|               1|\n",
      "|      9| Sudden Death (1995)|              Action|            [action]|      (20,[4],[1.0])|               0|\n",
      "|     10|    GoldenEye (1995)|Action|Adventure|...|[action, adventur...|(20,[2,4,8],[1.0,...|               1|\n",
      "+-------+--------------------+--------------------+--------------------+--------------------+----------------+\n",
      "only showing top 10 rows\n",
      "\n"
     ]
    },
    {
     "data": {
      "text/plain": [
       "category = adventure\n"
      ]
     },
     "metadata": {},
     "output_type": "display_data"
    },
    {
     "data": {
      "text/plain": [
       "adventure"
      ]
     },
     "execution_count": 32,
     "metadata": {},
     "output_type": "execute_result"
    }
   ],
   "source": [
    "val category = \"adventure\"\n",
    "genres_df2.withColumn(\"genres_\" + category, when(instr(lower(col(\"genres\")), category) === 0, 0).otherwise(1)).show(10)"
   ]
  },
  {
   "cell_type": "code",
   "execution_count": 45,
   "metadata": {},
   "outputs": [
    {
     "data": {
      "text/plain": [
       "prices = List(1.5, 2.0, 2.5)\n",
       "sum = 6.0\n"
      ]
     },
     "metadata": {},
     "output_type": "display_data"
    },
    {
     "data": {
      "text/plain": [
       "6.0"
      ]
     },
     "execution_count": 45,
     "metadata": {},
     "output_type": "execute_result"
    }
   ],
   "source": [
    "val prices = List(1.5, 2.0, 2.5)\n",
    "val sum = prices.foldLeft(0.0)(_ + _)"
   ]
  },
  {
   "cell_type": "code",
   "execution_count": 46,
   "metadata": {},
   "outputs": [
    {
     "data": {
      "text/plain": [
       "categories = List(adventure, animation)\n",
       "oneHotDf = [movieId: int, title: string ... 5 more fields]\n"
      ]
     },
     "metadata": {},
     "output_type": "display_data"
    },
    {
     "data": {
      "text/plain": [
       "[movieId: int, title: string ... 5 more fields]"
      ]
     },
     "execution_count": 46,
     "metadata": {},
     "output_type": "execute_result"
    }
   ],
   "source": [
    "val categories = List(\"adventure\", \"animation\")\n",
    "val oneHotDf = categories\n",
    "    .foldLeft(genres_df2)(\n",
    "        (genres_df2, category) => \n",
    "//             category\n",
    "            genres_df2.withColumn(\"genres_\" + category, when(instr(lower(col(\"genres\")), category) === 0, 0).otherwise(1))\n",
    "    )"
   ]
  },
  {
   "cell_type": "code",
   "execution_count": 47,
   "metadata": {},
   "outputs": [
    {
     "name": "stdout",
     "output_type": "stream",
     "text": [
      "+-------+--------------------+--------------------+--------------------+--------------------+----------------+----------------+\n",
      "|movieId|               title|              genres|      genre_words_lc|            features|genres_adventure|genres_animation|\n",
      "+-------+--------------------+--------------------+--------------------+--------------------+----------------+----------------+\n",
      "|      1|    Toy Story (1995)|Adventure|Animati...|[adventure, anima...|(20,[1,8,11,13,15...|               1|               1|\n",
      "|      2|      Jumanji (1995)|Adventure|Childre...|[adventure, child...|(20,[8,11,13],[1....|               1|               0|\n",
      "|      3|Grumpier Old Men ...|      Comedy|Romance|   [comedy, romance]|(20,[1,3],[1.0,1.0])|               0|               0|\n",
      "+-------+--------------------+--------------------+--------------------+--------------------+----------------+----------------+\n",
      "only showing top 3 rows\n",
      "\n"
     ]
    }
   ],
   "source": [
    "oneHotDf.show(3)"
   ]
  },
  {
   "cell_type": "code",
   "execution_count": 58,
   "metadata": {},
   "outputs": [
    {
     "data": {
      "text/plain": [
       "distinct_words_list = List(crime, imax, fantasy, documentary, action, animation, mystery, horror, film-noir, musical, adventure, drama, western, children, war, romance, thriller, sci-fi, comedy)\n"
      ]
     },
     "metadata": {},
     "output_type": "display_data"
    },
    {
     "data": {
      "text/plain": [
       "List(crime, imax, fantasy, documentary, action, animation, mystery, horror, film-noir, musical, adventure, drama, western, children, war, romance, thriller, sci-fi, comedy)"
      ]
     },
     "execution_count": 58,
     "metadata": {},
     "output_type": "execute_result"
    }
   ],
   "source": [
    "// distinct_words.select(\"col\")\n",
    "// //     .filter(r => r(0).asInstanceOf[String])\n",
    "//     .rdd.map(r => r(0).asInstanceOf[String]).collect()\n",
    "val distinct_words_list = distinct_words.select(\"col\")\n",
    "    .map(r => r.getString(0))\n",
    "    .filter(r => r != \"(no genres listed)\")\n",
    "    .collect.toList"
   ]
  },
  {
   "cell_type": "code",
   "execution_count": 59,
   "metadata": {},
   "outputs": [
    {
     "data": {
      "text/plain": [
       "categories = List(adventure, animation)\n",
       "oneHotDf = [movieId: int, title: string ... 22 more fields]\n"
      ]
     },
     "metadata": {},
     "output_type": "display_data"
    },
    {
     "data": {
      "text/plain": [
       "[movieId: int, title: string ... 22 more fields]"
      ]
     },
     "execution_count": 59,
     "metadata": {},
     "output_type": "execute_result"
    }
   ],
   "source": [
    "val categories = List(\"adventure\", \"animation\")\n",
    "val oneHotDf = distinct_words_list\n",
    "    .foldLeft(genres_df2)(\n",
    "        (genres_df2, category) => \n",
    "//             category\n",
    "            genres_df2.withColumn(\"genres_\" + category, when(instr(lower(col(\"genres\")), category) === 0, 0).otherwise(1))\n",
    "    )"
   ]
  },
  {
   "cell_type": "code",
   "execution_count": 60,
   "metadata": {},
   "outputs": [
    {
     "name": "stdout",
     "output_type": "stream",
     "text": [
      "+-------+--------------------+--------------------+--------------------+--------------------+------------+-----------+--------------+------------------+-------------+----------------+--------------+-------------+----------------+--------------+----------------+------------+--------------+---------------+----------+--------------+---------------+-------------+-------------+\n",
      "|movieId|               title|              genres|      genre_words_lc|            features|genres_crime|genres_imax|genres_fantasy|genres_documentary|genres_action|genres_animation|genres_mystery|genres_horror|genres_film-noir|genres_musical|genres_adventure|genres_drama|genres_western|genres_children|genres_war|genres_romance|genres_thriller|genres_sci-fi|genres_comedy|\n",
      "+-------+--------------------+--------------------+--------------------+--------------------+------------+-----------+--------------+------------------+-------------+----------------+--------------+-------------+----------------+--------------+----------------+------------+--------------+---------------+----------+--------------+---------------+-------------+-------------+\n",
      "|      1|    Toy Story (1995)|Adventure|Animati...|[adventure, anima...|(20,[1,8,11,13,15...|           0|          0|             1|                 0|            0|               1|             0|            0|               0|             0|               1|           0|             0|              1|         0|             0|              0|            0|            1|\n",
      "|      2|      Jumanji (1995)|Adventure|Childre...|[adventure, child...|(20,[8,11,13],[1....|           0|          0|             1|                 0|            0|               0|             0|            0|               0|             0|               1|           0|             0|              1|         0|             0|              0|            0|            0|\n",
      "|      3|Grumpier Old Men ...|      Comedy|Romance|   [comedy, romance]|(20,[1,3],[1.0,1.0])|           0|          0|             0|                 0|            0|               0|             0|            0|               0|             0|               0|           0|             0|              0|         0|             1|              0|            0|            1|\n",
      "+-------+--------------------+--------------------+--------------------+--------------------+------------+-----------+--------------+------------------+-------------+----------------+--------------+-------------+----------------+--------------+----------------+------------+--------------+---------------+----------+--------------+---------------+-------------+-------------+\n",
      "only showing top 3 rows\n",
      "\n"
     ]
    }
   ],
   "source": [
    "oneHotDf.show(3)"
   ]
  },
  {
   "cell_type": "code",
   "execution_count": null,
   "metadata": {},
   "outputs": [],
   "source": []
  }
 ],
 "metadata": {
  "kernelspec": {
   "display_name": "Apache Toree - Scala",
   "language": "scala",
   "name": "apache_toree_scala"
  },
  "language_info": {
   "codemirror_mode": "text/x-scala",
   "file_extension": ".scala",
   "mimetype": "text/x-scala",
   "name": "scala",
   "pygments_lexer": "scala",
   "version": "2.11.8"
  }
 },
 "nbformat": 4,
 "nbformat_minor": 2
}
