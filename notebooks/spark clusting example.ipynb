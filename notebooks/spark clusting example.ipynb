{
 "cells": [
  {
   "cell_type": "markdown",
   "metadata": {},
   "source": [
    "Data from here https://grouplens.org/datasets/movielens/"
   ]
  },
  {
   "cell_type": "code",
   "execution_count": 1,
   "metadata": {},
   "outputs": [],
   "source": [
    "import org.apache.spark.sql.functions._\n",
    "import org.apache.spark.ml.clustering.KMeans\n",
    "import org.apache.spark.ml.feature.VectorAssembler\n",
    "import org.apache.spark.ml.evaluation.ClusteringEvaluator"
   ]
  },
  {
   "cell_type": "code",
   "execution_count": 2,
   "metadata": {},
   "outputs": [
    {
     "data": {
      "text/plain": [
       "genres_df = [movieId: int, title: string ... 1 more field]\n"
      ]
     },
     "metadata": {},
     "output_type": "display_data"
    },
    {
     "data": {
      "text/plain": [
       "[movieId: int, title: string ... 1 more field]"
      ]
     },
     "execution_count": 2,
     "metadata": {},
     "output_type": "execute_result"
    }
   ],
   "source": [
    "val genres_df = spark.read\n",
    "    .format(\"csv\")\n",
    "    .option(\"header\", \"true\")\n",
    "    .option(\"inferSchema\", true)\n",
    "    .load(\"/home/jovyan/data/ml-20m/movies.csv\")"
   ]
  },
  {
   "cell_type": "code",
   "execution_count": 3,
   "metadata": {},
   "outputs": [
    {
     "name": "stdout",
     "output_type": "stream",
     "text": [
      "+-------+--------------------+--------------------+\n",
      "|movieId|               title|              genres|\n",
      "+-------+--------------------+--------------------+\n",
      "|      1|    Toy Story (1995)|Adventure|Animati...|\n",
      "|      2|      Jumanji (1995)|Adventure|Childre...|\n",
      "|      3|Grumpier Old Men ...|      Comedy|Romance|\n",
      "+-------+--------------------+--------------------+\n",
      "only showing top 3 rows\n",
      "\n"
     ]
    }
   ],
   "source": [
    "genres_df.show(3)"
   ]
  },
  {
   "cell_type": "code",
   "execution_count": 4,
   "metadata": {},
   "outputs": [
    {
     "data": {
      "text/plain": [
       "genre_words_to_lowercaseUdf = UserDefinedFunction(<function1>,ArrayType(StringType,true),Some(List(StringType)))\n",
       "genres_df1 = [movieId: int, title: string ... 2 more fields]\n"
      ]
     },
     "metadata": {},
     "output_type": "display_data"
    },
    {
     "data": {
      "text/plain": [
       "genre_to_lowercase: (genres: String)Array[String]\n"
      ]
     },
     "metadata": {},
     "output_type": "display_data"
    },
    {
     "data": {
      "text/plain": [
       "[movieId: int, title: string ... 2 more fields]"
      ]
     },
     "execution_count": 4,
     "metadata": {},
     "output_type": "execute_result"
    }
   ],
   "source": [
    "def genre_to_lowercase(genres: String): Array[String] = genres.toLowerCase().split(\"\\\\|\")\n",
    "\n",
    "// we use the method name followed by a \"_\" to indicate we want a reference\n",
    "// to the method, not call it\n",
    "val genre_words_to_lowercaseUdf = udf(genre_to_lowercase _)\n",
    "\n",
    "val genres_df1 = genres_df.withColumn(\"genre_words_lc\", genre_words_to_lowercaseUdf('genres))"
   ]
  },
  {
   "cell_type": "code",
   "execution_count": 5,
   "metadata": {},
   "outputs": [
    {
     "name": "stdout",
     "output_type": "stream",
     "text": [
      "+-------+--------------------+--------------------+--------------------+\n",
      "|movieId|               title|              genres|      genre_words_lc|\n",
      "+-------+--------------------+--------------------+--------------------+\n",
      "|      1|    Toy Story (1995)|Adventure|Animati...|[adventure, anima...|\n",
      "|      2|      Jumanji (1995)|Adventure|Childre...|[adventure, child...|\n",
      "|      3|Grumpier Old Men ...|      Comedy|Romance|   [comedy, romance]|\n",
      "+-------+--------------------+--------------------+--------------------+\n",
      "only showing top 3 rows\n",
      "\n"
     ]
    }
   ],
   "source": [
    "genres_df1.show(3)"
   ]
  },
  {
   "cell_type": "markdown",
   "metadata": {},
   "source": [
    "We will think in terms of NLP where we will create a vector of the movie titles. This vector is basically a mapping of the movies to the genre vector."
   ]
  },
  {
   "cell_type": "code",
   "execution_count": 6,
   "metadata": {},
   "outputs": [
    {
     "data": {
      "text/plain": [
       "all_words = [col: string]\n",
       "distinct_words = [col: string]\n",
       "total_distinct_words = 20\n"
      ]
     },
     "metadata": {},
     "output_type": "display_data"
    },
    {
     "data": {
      "text/plain": [
       "20"
      ]
     },
     "execution_count": 6,
     "metadata": {},
     "output_type": "execute_result"
    }
   ],
   "source": [
    "val all_words = genres_df1.select(explode(genres_df1(\"genre_words_lc\")))\n",
    "val distinct_words = all_words.filter(_ != \"\").select(all_words(\"col\")).distinct\n",
    "val total_distinct_words = distinct_words.count.toInt"
   ]
  },
  {
   "cell_type": "code",
   "execution_count": 7,
   "metadata": {},
   "outputs": [
    {
     "data": {
      "text/html": [
       "<table>\n",
       "<tr><td>crime</td></tr>\n",
       "<tr><td>imax</td></tr>\n",
       "<tr><td>fantasy</td></tr>\n",
       "<tr><td>documentary</td></tr>\n",
       "<tr><td>action</td></tr>\n",
       "</table>"
      ],
      "text/plain": [
       "+-------------+\n",
       "| crime       |\n",
       "| imax        |\n",
       "| fantasy     |\n",
       "| documentary |\n",
       "| action      |\n",
       "+-------------+"
      ]
     },
     "execution_count": 7,
     "metadata": {},
     "output_type": "execute_result"
    }
   ],
   "source": [
    "distinct_words.take(5)"
   ]
  },
  {
   "cell_type": "code",
   "execution_count": 8,
   "metadata": {},
   "outputs": [
    {
     "name": "stdout",
     "output_type": "stream",
     "text": [
      "+--------------------+----------------+\n",
      "|              genres|genres_adventure|\n",
      "+--------------------+----------------+\n",
      "|Adventure|Animati...|               1|\n",
      "|Adventure|Childre...|               1|\n",
      "|      Comedy|Romance|               0|\n",
      "|Comedy|Drama|Romance|               0|\n",
      "|              Comedy|               0|\n",
      "|Action|Crime|Thri...|               0|\n",
      "|      Comedy|Romance|               0|\n",
      "|  Adventure|Children|               1|\n",
      "|              Action|               0|\n",
      "|Action|Adventure|...|               8|\n",
      "+--------------------+----------------+\n",
      "only showing top 10 rows\n",
      "\n"
     ]
    },
    {
     "data": {
      "text/plain": [
       "category = adventure\n"
      ]
     },
     "metadata": {},
     "output_type": "display_data"
    },
    {
     "data": {
      "text/plain": [
       "adventure"
      ]
     },
     "execution_count": 8,
     "metadata": {},
     "output_type": "execute_result"
    }
   ],
   "source": [
    "val category = \"adventure\"\n",
    "genres_df1.withColumn(\"genres_\" + category, instr(lower(col(\"genres\")), category))\n",
    "    .select(\"genres\", \"genres_adventure\")\n",
    "    .show(10)"
   ]
  },
  {
   "cell_type": "code",
   "execution_count": 9,
   "metadata": {},
   "outputs": [
    {
     "name": "stdout",
     "output_type": "stream",
     "text": [
      "+-------+--------------------+--------------------+--------------------+----------------+\n",
      "|movieId|               title|              genres|      genre_words_lc|genres_adventure|\n",
      "+-------+--------------------+--------------------+--------------------+----------------+\n",
      "|      1|    Toy Story (1995)|Adventure|Animati...|[adventure, anima...|               1|\n",
      "|      2|      Jumanji (1995)|Adventure|Childre...|[adventure, child...|               1|\n",
      "|      3|Grumpier Old Men ...|      Comedy|Romance|   [comedy, romance]|               0|\n",
      "|      4|Waiting to Exhale...|Comedy|Drama|Romance|[comedy, drama, r...|               0|\n",
      "|      5|Father of the Bri...|              Comedy|            [comedy]|               0|\n",
      "|      6|         Heat (1995)|Action|Crime|Thri...|[action, crime, t...|               0|\n",
      "|      7|      Sabrina (1995)|      Comedy|Romance|   [comedy, romance]|               0|\n",
      "|      8| Tom and Huck (1995)|  Adventure|Children|[adventure, child...|               1|\n",
      "|      9| Sudden Death (1995)|              Action|            [action]|               0|\n",
      "|     10|    GoldenEye (1995)|Action|Adventure|...|[action, adventur...|               1|\n",
      "+-------+--------------------+--------------------+--------------------+----------------+\n",
      "only showing top 10 rows\n",
      "\n"
     ]
    },
    {
     "data": {
      "text/plain": [
       "category = adventure\n"
      ]
     },
     "metadata": {},
     "output_type": "display_data"
    },
    {
     "data": {
      "text/plain": [
       "adventure"
      ]
     },
     "execution_count": 9,
     "metadata": {},
     "output_type": "execute_result"
    }
   ],
   "source": [
    "val category = \"adventure\"\n",
    "genres_df1.withColumn(\"genres_\" + category, when(instr(lower(col(\"genres\")), category) === 0, 0).otherwise(1)).show(10)"
   ]
  },
  {
   "cell_type": "markdown",
   "metadata": {},
   "source": [
    "What is fold left. You can imagine it to be a piece of paper that you fold from the left."
   ]
  },
  {
   "cell_type": "code",
   "execution_count": 10,
   "metadata": {},
   "outputs": [
    {
     "data": {
      "text/plain": [
       "prices = List(1.5, 2.0, 2.5)\n",
       "sum = 6.0\n"
      ]
     },
     "metadata": {},
     "output_type": "display_data"
    },
    {
     "data": {
      "text/plain": [
       "6.0"
      ]
     },
     "execution_count": 10,
     "metadata": {},
     "output_type": "execute_result"
    }
   ],
   "source": [
    "val prices = List(1.5, 2.0, 2.5)\n",
    "val sum = prices.foldLeft(0.0)(_ + _)"
   ]
  },
  {
   "cell_type": "code",
   "execution_count": 11,
   "metadata": {},
   "outputs": [
    {
     "data": {
      "text/plain": [
       "categories = List(adventure, animation)\n",
       "oneHotDf = [movieId: int, title: string ... 4 more fields]\n"
      ]
     },
     "metadata": {},
     "output_type": "display_data"
    },
    {
     "data": {
      "text/plain": [
       "[movieId: int, title: string ... 4 more fields]"
      ]
     },
     "execution_count": 11,
     "metadata": {},
     "output_type": "execute_result"
    }
   ],
   "source": [
    "val categories = List(\"adventure\", \"animation\")\n",
    "val oneHotDf = categories\n",
    "    .foldLeft(genres_df1)(\n",
    "        (genres_df1, category) => \n",
    "            genres_df1.withColumn(\"genres_\" + category, when(instr(lower(col(\"genres\")), category) === 0, 0).otherwise(1))\n",
    "    )"
   ]
  },
  {
   "cell_type": "code",
   "execution_count": 12,
   "metadata": {},
   "outputs": [
    {
     "name": "stdout",
     "output_type": "stream",
     "text": [
      "+-------+--------------------+--------------------+--------------------+----------------+----------------+\n",
      "|movieId|               title|              genres|      genre_words_lc|genres_adventure|genres_animation|\n",
      "+-------+--------------------+--------------------+--------------------+----------------+----------------+\n",
      "|      1|    Toy Story (1995)|Adventure|Animati...|[adventure, anima...|               1|               1|\n",
      "|      2|      Jumanji (1995)|Adventure|Childre...|[adventure, child...|               1|               0|\n",
      "|      3|Grumpier Old Men ...|      Comedy|Romance|   [comedy, romance]|               0|               0|\n",
      "+-------+--------------------+--------------------+--------------------+----------------+----------------+\n",
      "only showing top 3 rows\n",
      "\n"
     ]
    }
   ],
   "source": [
    "oneHotDf.show(3)"
   ]
  },
  {
   "cell_type": "code",
   "execution_count": 13,
   "metadata": {},
   "outputs": [
    {
     "data": {
      "text/plain": [
       "distinct_words_list = List(crime, imax, fantasy, documentary, action, animation, mystery, horror, film-noir, musical, adventure, drama, western, children, war, romance, thriller, sci-fi, comedy)\n"
      ]
     },
     "metadata": {},
     "output_type": "display_data"
    },
    {
     "data": {
      "text/plain": [
       "List(crime, imax, fantasy, documentary, action, animation, mystery, horror, film-noir, musical, adventure, drama, western, children, war, romance, thriller, sci-fi, comedy)"
      ]
     },
     "execution_count": 13,
     "metadata": {},
     "output_type": "execute_result"
    }
   ],
   "source": [
    "val distinct_words_list = distinct_words.select(\"col\")\n",
    "    .map(r => r.getString(0))\n",
    "    .filter(r => r != \"(no genres listed)\")\n",
    "    .collect.toList"
   ]
  },
  {
   "cell_type": "code",
   "execution_count": 14,
   "metadata": {},
   "outputs": [
    {
     "data": {
      "text/plain": [
       "categories = List(adventure, animation)\n",
       "oneHotDf = [movieId: int, title: string ... 21 more fields]\n"
      ]
     },
     "metadata": {},
     "output_type": "display_data"
    },
    {
     "data": {
      "text/plain": [
       "[movieId: int, title: string ... 21 more fields]"
      ]
     },
     "execution_count": 14,
     "metadata": {},
     "output_type": "execute_result"
    }
   ],
   "source": [
    "val oneHotDf = distinct_words_list\n",
    "    .foldLeft(genres_df1)(\n",
    "        (genres_df1, category) => \n",
    "            genres_df1\n",
    "                .withColumn(\"genres_\" + category,\n",
    "                            when(instr(lower(col(\"genres\")), category) === 0, 0)\n",
    "                            .otherwise(1))\n",
    "    )"
   ]
  },
  {
   "cell_type": "code",
   "execution_count": 15,
   "metadata": {},
   "outputs": [
    {
     "name": "stdout",
     "output_type": "stream",
     "text": [
      "+-------+--------------------+--------------------+--------------------+------------+-----------+--------------+------------------+-------------+----------------+--------------+-------------+----------------+--------------+----------------+------------+--------------+---------------+----------+--------------+---------------+-------------+-------------+\n",
      "|movieId|               title|              genres|      genre_words_lc|genres_crime|genres_imax|genres_fantasy|genres_documentary|genres_action|genres_animation|genres_mystery|genres_horror|genres_film-noir|genres_musical|genres_adventure|genres_drama|genres_western|genres_children|genres_war|genres_romance|genres_thriller|genres_sci-fi|genres_comedy|\n",
      "+-------+--------------------+--------------------+--------------------+------------+-----------+--------------+------------------+-------------+----------------+--------------+-------------+----------------+--------------+----------------+------------+--------------+---------------+----------+--------------+---------------+-------------+-------------+\n",
      "|      1|    Toy Story (1995)|Adventure|Animati...|[adventure, anima...|           0|          0|             1|                 0|            0|               1|             0|            0|               0|             0|               1|           0|             0|              1|         0|             0|              0|            0|            1|\n",
      "|      2|      Jumanji (1995)|Adventure|Childre...|[adventure, child...|           0|          0|             1|                 0|            0|               0|             0|            0|               0|             0|               1|           0|             0|              1|         0|             0|              0|            0|            0|\n",
      "|      3|Grumpier Old Men ...|      Comedy|Romance|   [comedy, romance]|           0|          0|             0|                 0|            0|               0|             0|            0|               0|             0|               0|           0|             0|              0|         0|             1|              0|            0|            1|\n",
      "+-------+--------------------+--------------------+--------------------+------------+-----------+--------------+------------------+-------------+----------------+--------------+-------------+----------------+--------------+----------------+------------+--------------+---------------+----------+--------------+---------------+-------------+-------------+\n",
      "only showing top 3 rows\n",
      "\n"
     ]
    }
   ],
   "source": [
    "oneHotDf.show(3)"
   ]
  },
  {
   "cell_type": "code",
   "execution_count": 16,
   "metadata": {},
   "outputs": [
    {
     "name": "stdout",
     "output_type": "stream",
     "text": [
      "root\n",
      " |-- movieId: integer (nullable = true)\n",
      " |-- title: string (nullable = true)\n",
      " |-- genres: string (nullable = true)\n",
      " |-- genre_words_lc: array (nullable = true)\n",
      " |    |-- element: string (containsNull = true)\n",
      " |-- genres_crime: integer (nullable = false)\n",
      " |-- genres_imax: integer (nullable = false)\n",
      " |-- genres_fantasy: integer (nullable = false)\n",
      " |-- genres_documentary: integer (nullable = false)\n",
      " |-- genres_action: integer (nullable = false)\n",
      " |-- genres_animation: integer (nullable = false)\n",
      " |-- genres_mystery: integer (nullable = false)\n",
      " |-- genres_horror: integer (nullable = false)\n",
      " |-- genres_film-noir: integer (nullable = false)\n",
      " |-- genres_musical: integer (nullable = false)\n",
      " |-- genres_adventure: integer (nullable = false)\n",
      " |-- genres_drama: integer (nullable = false)\n",
      " |-- genres_western: integer (nullable = false)\n",
      " |-- genres_children: integer (nullable = false)\n",
      " |-- genres_war: integer (nullable = false)\n",
      " |-- genres_romance: integer (nullable = false)\n",
      " |-- genres_thriller: integer (nullable = false)\n",
      " |-- genres_sci-fi: integer (nullable = false)\n",
      " |-- genres_comedy: integer (nullable = false)\n",
      "\n"
     ]
    }
   ],
   "source": [
    "oneHotDf.printSchema"
   ]
  },
  {
   "cell_type": "code",
   "execution_count": 17,
   "metadata": {},
   "outputs": [
    {
     "data": {
      "text/plain": [
       "featureCols = Array(genres_crime, genres_imax, genres_fantasy, genres_documentary, genres_action, genres_animation, genres_mystery, genres_horror, genres_film-noir, genres_musical, genres_adventure, genres_drama, genres_western, genres_children, genres_war, genres_romance, genres_thriller, genres_sci-fi, genres_comedy)\n",
       "assembler = vecAssembler_dd61feccc44b\n",
       "dataset = [movieId: int, title: string ... 22 more fields]\n"
      ]
     },
     "metadata": {},
     "output_type": "display_data"
    },
    {
     "data": {
      "text/plain": [
       "[movieId: int, title: string ... 22 more fields]"
      ]
     },
     "execution_count": 17,
     "metadata": {},
     "output_type": "execute_result"
    }
   ],
   "source": [
    "val featureCols = oneHotDf.columns.filter(w => w contains \"genres_\")\n",
    "val assembler = new VectorAssembler().setInputCols(featureCols).setOutputCol(\"features\")\n",
    "val dataset = assembler.transform(oneHotDf)"
   ]
  },
  {
   "cell_type": "code",
   "execution_count": 18,
   "metadata": {},
   "outputs": [
    {
     "data": {
      "text/plain": [
       "kmeans = kmeans_5b7345207bd1\n",
       "model = kmeans_5b7345207bd1\n"
      ]
     },
     "metadata": {},
     "output_type": "display_data"
    },
    {
     "data": {
      "text/plain": [
       "kmeans_5b7345207bd1"
      ]
     },
     "execution_count": 18,
     "metadata": {},
     "output_type": "execute_result"
    }
   ],
   "source": [
    "// Trains a k-means model.\n",
    "val kmeans = new KMeans().setK(5).setSeed(1L)\n",
    "val model = kmeans.fit(dataset)"
   ]
  },
  {
   "cell_type": "code",
   "execution_count": 19,
   "metadata": {},
   "outputs": [
    {
     "data": {
      "text/plain": [
       "predictions = [movieId: int, title: string ... 23 more fields]\n"
      ]
     },
     "metadata": {},
     "output_type": "display_data"
    },
    {
     "data": {
      "text/plain": [
       "[movieId: int, title: string ... 23 more fields]"
      ]
     },
     "execution_count": 19,
     "metadata": {},
     "output_type": "execute_result"
    }
   ],
   "source": [
    "// Make predictions\n",
    "val predictions = model.transform(dataset)"
   ]
  },
  {
   "cell_type": "code",
   "execution_count": 20,
   "metadata": {},
   "outputs": [
    {
     "data": {
      "text/plain": [
       "evaluator = cluEval_26d9fa291dd6\n"
      ]
     },
     "metadata": {},
     "output_type": "display_data"
    },
    {
     "data": {
      "text/plain": [
       "cluEval_26d9fa291dd6"
      ]
     },
     "execution_count": 20,
     "metadata": {},
     "output_type": "execute_result"
    }
   ],
   "source": [
    "// Evaluate clustering by computing Silhouette score\n",
    "val evaluator = new ClusteringEvaluator()"
   ]
  },
  {
   "cell_type": "code",
   "execution_count": 21,
   "metadata": {},
   "outputs": [
    {
     "name": "stdout",
     "output_type": "stream",
     "text": [
      "Silhouette with squared euclidean distance = 0.28909498554884994\n"
     ]
    },
    {
     "data": {
      "text/plain": [
       "silhouette = 0.28909498554884994\n"
      ]
     },
     "metadata": {},
     "output_type": "display_data"
    },
    {
     "data": {
      "text/plain": [
       "0.28909498554884994"
      ]
     },
     "execution_count": 21,
     "metadata": {},
     "output_type": "execute_result"
    }
   ],
   "source": [
    "val silhouette = evaluator.evaluate(predictions)\n",
    "println(s\"Silhouette with squared euclidean distance = $silhouette\")"
   ]
  },
  {
   "cell_type": "code",
   "execution_count": 22,
   "metadata": {},
   "outputs": [
    {
     "name": "stdout",
     "output_type": "stream",
     "text": [
      "Cluster Centers: \n",
      "[0.07150964812712826,0.0370790768066591,0.18123344684071133,0.014377601210745366,0.6428301172909573,0.12372304199772986,0.03216042376087779,0.12372304199772986,0.0034052213393870605,0.019674612183125238,0.561861520998865,0.09648127128263338,0.048808172531214535,0.11123723041997731,0.05675368898978434,0.06469920544835414,0.09875141884222476,0.40938327657964435,0.08702232311766932]\n",
      "[0.08134842130252433,0.00387750257181293,0.02302761731423597,0.17994777241433882,0.04645089815620796,0.007359341615889847,0.02864603940808736,0.015035214053968505,0.01281949829864683,0.029674764580200994,0.02864603940808736,0.8290733560180422,0.010920313365513966,0.01582654110944053,0.0656801456041782,0.13056896415288438,0.0,0.013848223470760465,0.13215161826382843]\n",
      "[0.03538976566236251,0.0014347202295552368,0.0583452893352463,0.004304160688665711,0.038737446197991396,0.0196078431372549,0.01912960306073649,0.013868962219033956,0.001912960306073649,0.10616929698708752,0.04017216642754663,0.35628885700621715,0.024390243902439025,0.026303204208512676,0.013868962219033956,1.0,0.018173122907699665,0.015303682448589193,0.9038737446197992]\n",
      "[0.07163934426229508,0.0042622950819672135,0.06934426229508196,0.02262295081967213,0.04918032786885246,0.0898360655737705,0.037868852459016396,0.16852459016393442,0.005901639344262295,0.06180327868852459,0.04540983606557377,0.0036065573770491803,0.055245901639344265,0.0960655737704918,0.01557377049180328,0.0,0.013934426229508197,0.025573770491803278,0.7106557377049181]\n",
      "[0.3180982400840557,0.005253480430785396,0.02547938008930917,0.0031520882584712374,0.22406094037299712,0.004728132387706856,0.20908852114525875,0.2723929603362228,0.0312582085631731,0.002626740215392698,0.031783556606251644,0.48463356973995275,0.005516154452324665,0.0010506960861570791,0.023640661938534282,0.056474914630943,0.9965852377199895,0.0782768584187024,0.06540583136327818]\n"
     ]
    }
   ],
   "source": [
    "// Shows the result.\n",
    "println(\"Cluster Centers: \")\n",
    "model.clusterCenters.foreach(println)"
   ]
  },
  {
   "cell_type": "code",
   "execution_count": 23,
   "metadata": {},
   "outputs": [
    {
     "name": "stdout",
     "output_type": "stream",
     "text": [
      "+--------------------+--------------------+\n",
      "|               title|            features|\n",
      "+--------------------+--------------------+\n",
      "|    Toy Story (1995)|(19,[2,5,10,13,18...|\n",
      "|      Jumanji (1995)|(19,[2,10,13],[1....|\n",
      "|Grumpier Old Men ...|(19,[15,18],[1.0,...|\n",
      "+--------------------+--------------------+\n",
      "only showing top 3 rows\n",
      "\n"
     ]
    }
   ],
   "source": [
    "dataset.select(\"title\", \"features\").show(3)"
   ]
  },
  {
   "cell_type": "code",
   "execution_count": 24,
   "metadata": {},
   "outputs": [
    {
     "name": "stdout",
     "output_type": "stream",
     "text": [
      "root\n",
      " |-- movieId: integer (nullable = true)\n",
      " |-- title: string (nullable = true)\n",
      " |-- genres: string (nullable = true)\n",
      " |-- genre_words_lc: array (nullable = true)\n",
      " |    |-- element: string (containsNull = true)\n",
      " |-- genres_crime: integer (nullable = false)\n",
      " |-- genres_imax: integer (nullable = false)\n",
      " |-- genres_fantasy: integer (nullable = false)\n",
      " |-- genres_documentary: integer (nullable = false)\n",
      " |-- genres_action: integer (nullable = false)\n",
      " |-- genres_animation: integer (nullable = false)\n",
      " |-- genres_mystery: integer (nullable = false)\n",
      " |-- genres_horror: integer (nullable = false)\n",
      " |-- genres_film-noir: integer (nullable = false)\n",
      " |-- genres_musical: integer (nullable = false)\n",
      " |-- genres_adventure: integer (nullable = false)\n",
      " |-- genres_drama: integer (nullable = false)\n",
      " |-- genres_western: integer (nullable = false)\n",
      " |-- genres_children: integer (nullable = false)\n",
      " |-- genres_war: integer (nullable = false)\n",
      " |-- genres_romance: integer (nullable = false)\n",
      " |-- genres_thriller: integer (nullable = false)\n",
      " |-- genres_sci-fi: integer (nullable = false)\n",
      " |-- genres_comedy: integer (nullable = false)\n",
      " |-- features: vector (nullable = true)\n",
      "\n"
     ]
    }
   ],
   "source": [
    "dataset.printSchema"
   ]
  },
  {
   "cell_type": "code",
   "execution_count": 25,
   "metadata": {},
   "outputs": [
    {
     "name": "stdout",
     "output_type": "stream",
     "text": [
      "+-------+--------------------+--------------------+--------------------+------------+-----------+--------------+------------------+-------------+----------------+--------------+-------------+----------------+--------------+----------------+------------+--------------+---------------+----------+--------------+---------------+-------------+-------------+--------------------+\n",
      "|movieId|               title|              genres|      genre_words_lc|genres_crime|genres_imax|genres_fantasy|genres_documentary|genres_action|genres_animation|genres_mystery|genres_horror|genres_film-noir|genres_musical|genres_adventure|genres_drama|genres_western|genres_children|genres_war|genres_romance|genres_thriller|genres_sci-fi|genres_comedy|            features|\n",
      "+-------+--------------------+--------------------+--------------------+------------+-----------+--------------+------------------+-------------+----------------+--------------+-------------+----------------+--------------+----------------+------------+--------------+---------------+----------+--------------+---------------+-------------+-------------+--------------------+\n",
      "|      1|    Toy Story (1995)|Adventure|Animati...|[adventure, anima...|           0|          0|             1|                 0|            0|               1|             0|            0|               0|             0|               1|           0|             0|              1|         0|             0|              0|            0|            1|(19,[2,5,10,13,18...|\n",
      "|      2|      Jumanji (1995)|Adventure|Childre...|[adventure, child...|           0|          0|             1|                 0|            0|               0|             0|            0|               0|             0|               1|           0|             0|              1|         0|             0|              0|            0|            0|(19,[2,10,13],[1....|\n",
      "|      3|Grumpier Old Men ...|      Comedy|Romance|   [comedy, romance]|           0|          0|             0|                 0|            0|               0|             0|            0|               0|             0|               0|           0|             0|              0|         0|             1|              0|            0|            1|(19,[15,18],[1.0,...|\n",
      "+-------+--------------------+--------------------+--------------------+------------+-----------+--------------+------------------+-------------+----------------+--------------+-------------+----------------+--------------+----------------+------------+--------------+---------------+----------+--------------+---------------+-------------+-------------+--------------------+\n",
      "only showing top 3 rows\n",
      "\n"
     ]
    }
   ],
   "source": [
    "dataset.show(3)"
   ]
  },
  {
   "cell_type": "code",
   "execution_count": 26,
   "metadata": {},
   "outputs": [
    {
     "name": "stdout",
     "output_type": "stream",
     "text": [
      "+-------+--------------------+--------------------+--------------------+------------+-----------+--------------+------------------+-------------+----------------+--------------+-------------+----------------+--------------+----------------+------------+--------------+---------------+----------+--------------+---------------+-------------+-------------+--------------------+----------+\n",
      "|movieId|               title|              genres|      genre_words_lc|genres_crime|genres_imax|genres_fantasy|genres_documentary|genres_action|genres_animation|genres_mystery|genres_horror|genres_film-noir|genres_musical|genres_adventure|genres_drama|genres_western|genres_children|genres_war|genres_romance|genres_thriller|genres_sci-fi|genres_comedy|            features|prediction|\n",
      "+-------+--------------------+--------------------+--------------------+------------+-----------+--------------+------------------+-------------+----------------+--------------+-------------+----------------+--------------+----------------+------------+--------------+---------------+----------+--------------+---------------+-------------+-------------+--------------------+----------+\n",
      "|      1|    Toy Story (1995)|Adventure|Animati...|[adventure, anima...|           0|          0|             1|                 0|            0|               1|             0|            0|               0|             0|               1|           0|             0|              1|         0|             0|              0|            0|            1|(19,[2,5,10,13,18...|         3|\n",
      "|      2|      Jumanji (1995)|Adventure|Childre...|[adventure, child...|           0|          0|             1|                 0|            0|               0|             0|            0|               0|             0|               1|           0|             0|              1|         0|             0|              0|            0|            0|(19,[2,10,13],[1....|         0|\n",
      "|      3|Grumpier Old Men ...|      Comedy|Romance|   [comedy, romance]|           0|          0|             0|                 0|            0|               0|             0|            0|               0|             0|               0|           0|             0|              0|         0|             1|              0|            0|            1|(19,[15,18],[1.0,...|         2|\n",
      "+-------+--------------------+--------------------+--------------------+------------+-----------+--------------+------------------+-------------+----------------+--------------+-------------+----------------+--------------+----------------+------------+--------------+---------------+----------+--------------+---------------+-------------+-------------+--------------------+----------+\n",
      "only showing top 3 rows\n",
      "\n"
     ]
    }
   ],
   "source": [
    "predictions.show(3)"
   ]
  },
  {
   "cell_type": "code",
   "execution_count": null,
   "metadata": {},
   "outputs": [],
   "source": []
  }
 ],
 "metadata": {
  "kernelspec": {
   "display_name": "Apache Toree - Scala",
   "language": "scala",
   "name": "apache_toree_scala"
  },
  "language_info": {
   "codemirror_mode": "text/x-scala",
   "file_extension": ".scala",
   "mimetype": "text/x-scala",
   "name": "scala",
   "pygments_lexer": "scala",
   "version": "2.11.8"
  }
 },
 "nbformat": 4,
 "nbformat_minor": 2
}
